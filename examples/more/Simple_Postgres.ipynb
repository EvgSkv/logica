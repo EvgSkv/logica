{
 "cells": [
  {
   "attachments": {},
   "cell_type": "markdown",
   "id": "7e89b446",
   "metadata": {},
   "source": [
    "# Example of running Postgres with text Pipeline overview"
   ]
  },
  {
   "cell_type": "code",
   "execution_count": null,
   "id": "58f2b0db",
   "metadata": {
    "scrolled": true
   },
   "outputs": [],
   "source": [
    "from logica import colab_logica\n",
    "colab_logica.ConnectToPostgres('interactive')\n",
    "colab_logica.DISPLAY_MODE = 'colab-text'"
   ]
  },
  {
   "cell_type": "code",
   "execution_count": 4,
   "id": "82c02eb6",
   "metadata": {},
   "outputs": [
    {
     "name": "stdout",
     "output_type": "stream",
     "text": [
      "Query is stored at \u001b[1mGreeting_sql\u001b[0m variable.\n"
     ]
    },
    {
     "data": {
      "text/html": [
       "<div style=\"border: 1px solid rgba(0, 0, 0, 0.3);width: fit-content;;padding: 20px;border-radius: 5px;box-shadow: 1px 1px 3px rgba(0, 0, 0, 0.2)\"><pre> ▚  Greeting</pre></div>"
      ],
      "text/plain": [
       "<IPython.core.display.HTML object>"
      ]
     },
     "metadata": {},
     "output_type": "display_data"
    },
    {
     "name": "stdout",
     "output_type": "stream",
     "text": [
      "Running predicate: Greeting (0 seconds)\n",
      "The following table is stored at \u001b[1mGreeting\u001b[0m variable.\n"
     ]
    },
    {
     "data": {
      "text/html": [
       "<div>\n",
       "<style scoped>\n",
       "    .dataframe tbody tr th:only-of-type {\n",
       "        vertical-align: middle;\n",
       "    }\n",
       "\n",
       "    .dataframe tbody tr th {\n",
       "        vertical-align: top;\n",
       "    }\n",
       "\n",
       "    .dataframe thead th {\n",
       "        text-align: right;\n",
       "    }\n",
       "</style>\n",
       "<table border=\"1\" class=\"dataframe\">\n",
       "  <thead>\n",
       "    <tr style=\"text-align: right;\">\n",
       "      <th></th>\n",
       "      <th>col0</th>\n",
       "    </tr>\n",
       "  </thead>\n",
       "  <tbody>\n",
       "    <tr>\n",
       "      <th>0</th>\n",
       "      <td>Hello world!</td>\n",
       "    </tr>\n",
       "  </tbody>\n",
       "</table>\n",
       "</div>"
      ],
      "text/plain": [
       "           col0\n",
       "0  Hello world!"
      ]
     },
     "metadata": {},
     "output_type": "display_data"
    },
    {
     "name": "stdout",
     "output_type": "stream",
     "text": [
      " \n"
     ]
    }
   ],
   "source": [
    "%%logica Greeting\n",
    "\n",
    "@Engine(\"psql\");\n",
    "\n",
    "Greeting(\"Hello world!\");"
   ]
  }
 ],
 "metadata": {
  "kernelspec": {
   "display_name": "Python 3 (ipykernel)",
   "language": "python",
   "name": "python3"
  },
  "language_info": {
   "codemirror_mode": {
    "name": "ipython",
    "version": 3
   },
   "file_extension": ".py",
   "mimetype": "text/x-python",
   "name": "python",
   "nbconvert_exporter": "python",
   "pygments_lexer": "ipython3",
   "version": "3.9.6"
  }
 },
 "nbformat": 4,
 "nbformat_minor": 5
}
